{
 "cells": [
  {
   "cell_type": "markdown",
   "id": "8c9826d0",
   "metadata": {},
   "source": [
    "<h1>CMSC 197 Quiz 1</h1>\n",
    "<h4>Jan Kristine A. Mosong</h4>\n",
    "<p>201950084</p>"
   ]
  },
  {
   "cell_type": "markdown",
   "id": "944ff4cb",
   "metadata": {},
   "source": [
    "<h2>Part 1</h2>"
   ]
  },
  {
   "cell_type": "code",
   "execution_count": 2,
   "id": "7de6d625",
   "metadata": {},
   "outputs": [],
   "source": [
    "import numpy as np"
   ]
  },
  {
   "cell_type": "markdown",
   "id": "ff270bf7",
   "metadata": {},
   "source": [
    "<h6>Create 2 1D arrays, y_hat and y</h6>"
   ]
  },
  {
   "cell_type": "markdown",
   "id": "b591c860",
   "metadata": {},
   "source": [
    "<p> Initialize y_hat with 20 linearly spaced numbers between -1 and 1</p>"
   ]
  },
  {
   "cell_type": "code",
   "execution_count": 3,
   "id": "697c0712",
   "metadata": {},
   "outputs": [
    {
     "data": {
      "text/plain": [
       "array([-1.        , -0.89473684, -0.78947368, -0.68421053, -0.57894737,\n",
       "       -0.47368421, -0.36842105, -0.26315789, -0.15789474, -0.05263158,\n",
       "        0.05263158,  0.15789474,  0.26315789,  0.36842105,  0.47368421,\n",
       "        0.57894737,  0.68421053,  0.78947368,  0.89473684,  1.        ])"
      ]
     },
     "execution_count": 3,
     "metadata": {},
     "output_type": "execute_result"
    }
   ],
   "source": [
    "y_hat = np.linspace(-1,1,20)\n",
    "y_hat"
   ]
  },
  {
   "cell_type": "markdown",
   "id": "1671167f",
   "metadata": {},
   "source": [
    "<p> Initialize y with 20 linearly spaced numbers between 0 and 1</p>"
   ]
  },
  {
   "cell_type": "code",
   "execution_count": 4,
   "id": "001fd29d",
   "metadata": {},
   "outputs": [
    {
     "data": {
      "text/plain": [
       "array([0.        , 0.05263158, 0.10526316, 0.15789474, 0.21052632,\n",
       "       0.26315789, 0.31578947, 0.36842105, 0.42105263, 0.47368421,\n",
       "       0.52631579, 0.57894737, 0.63157895, 0.68421053, 0.73684211,\n",
       "       0.78947368, 0.84210526, 0.89473684, 0.94736842, 1.        ])"
      ]
     },
     "execution_count": 4,
     "metadata": {},
     "output_type": "execute_result"
    }
   ],
   "source": [
    "y = np.linspace(0,1,20)\n",
    "y"
   ]
  },
  {
   "cell_type": "markdown",
   "id": "cda03ead",
   "metadata": {},
   "source": [
    "<h6>Compute for the shape and dimension of y_hat and y.</h6>"
   ]
  },
  {
   "cell_type": "markdown",
   "id": "d7566e83",
   "metadata": {},
   "source": [
    "<p>y_hat</p>"
   ]
  },
  {
   "cell_type": "code",
   "execution_count": 7,
   "id": "f442036a",
   "metadata": {},
   "outputs": [
    {
     "data": {
      "text/plain": [
       "(20,)"
      ]
     },
     "execution_count": 7,
     "metadata": {},
     "output_type": "execute_result"
    }
   ],
   "source": [
    "#shape of y_hat\n",
    "y_hat.shape"
   ]
  },
  {
   "cell_type": "code",
   "execution_count": 8,
   "id": "7931ecf8",
   "metadata": {},
   "outputs": [
    {
     "data": {
      "text/plain": [
       "1"
      ]
     },
     "execution_count": 8,
     "metadata": {},
     "output_type": "execute_result"
    }
   ],
   "source": [
    "#dimension of y_hat\n",
    "y_hat.ndim"
   ]
  },
  {
   "cell_type": "markdown",
   "id": "955e8aae",
   "metadata": {},
   "source": [
    "<p>y</p>"
   ]
  },
  {
   "cell_type": "code",
   "execution_count": 9,
   "id": "ecda4b29",
   "metadata": {},
   "outputs": [
    {
     "data": {
      "text/plain": [
       "(20,)"
      ]
     },
     "execution_count": 9,
     "metadata": {},
     "output_type": "execute_result"
    }
   ],
   "source": [
    "#shape of y\n",
    "y.shape"
   ]
  },
  {
   "cell_type": "code",
   "execution_count": 10,
   "id": "20f129d0",
   "metadata": {},
   "outputs": [
    {
     "data": {
      "text/plain": [
       "1"
      ]
     },
     "execution_count": 10,
     "metadata": {},
     "output_type": "execute_result"
    }
   ],
   "source": [
    "#dimension of y\n",
    "y.ndim"
   ]
  },
  {
   "cell_type": "markdown",
   "id": "a42c32b9",
   "metadata": {},
   "source": [
    "<h6>Create individual functions for each of the loss functions with y and y_hat as parameters</h6>"
   ]
  },
  {
   "cell_type": "markdown",
   "id": "d23b72d4",
   "metadata": {},
   "source": [
    "<p>Mean Squared Error (MSE)</p>"
   ]
  },
  {
   "cell_type": "code",
   "execution_count": 11,
   "id": "7492a11e",
   "metadata": {},
   "outputs": [
    {
     "data": {
      "text/plain": [
       "0.3421052631578948"
      ]
     },
     "execution_count": 11,
     "metadata": {},
     "output_type": "execute_result"
    }
   ],
   "source": [
    "def mse(a,b):\n",
    "    return np.mean(np.square(np.subtract(a,b)))\n",
    "\n",
    "mse(y_hat,y)"
   ]
  },
  {
   "cell_type": "markdown",
   "id": "026439c7",
   "metadata": {},
   "source": [
    "<p>Mean Absolute Error (MAE)</p>"
   ]
  },
  {
   "cell_type": "code",
   "execution_count": 12,
   "id": "c433ff6f",
   "metadata": {},
   "outputs": [
    {
     "data": {
      "text/plain": [
       "0.4999999999999999"
      ]
     },
     "execution_count": 12,
     "metadata": {},
     "output_type": "execute_result"
    }
   ],
   "source": [
    "def mae(a,b):\n",
    "    return np.mean(np.abs(np.subtract(a,b)))\n",
    "\n",
    "mae(y_hat,y)"
   ]
  },
  {
   "cell_type": "markdown",
   "id": "26b21238",
   "metadata": {},
   "source": [
    "<p>Mean Squared Logarithmic Eror</p>\n",
    "<p>(produces an error as log(0) is undefined)</p>"
   ]
  },
  {
   "cell_type": "code",
   "execution_count": 14,
   "id": "66d99296",
   "metadata": {},
   "outputs": [
    {
     "name": "stderr",
     "output_type": "stream",
     "text": [
      "C:\\Users\\Jenny\\AppData\\Local\\Temp\\ipykernel_11936\\4166242169.py:2: RuntimeWarning: divide by zero encountered in log\n",
      "  return np.mean(np.square(np.subtract(np.log(a+1),np.log(b+1))))\n"
     ]
    },
    {
     "data": {
      "text/plain": [
       "inf"
      ]
     },
     "execution_count": 14,
     "metadata": {},
     "output_type": "execute_result"
    }
   ],
   "source": [
    "def msle(a,b):\n",
    "    return np.mean(np.square(np.subtract(np.log(a+1),np.log(b+1))))\n",
    "\n",
    "msle(y_hat,y)"
   ]
  },
  {
   "cell_type": "markdown",
   "id": "5f8c4f36",
   "metadata": {},
   "source": [
    "<p>Mean Absolute Percentage Error (MAPE)</p>"
   ]
  },
  {
   "cell_type": "code",
   "execution_count": 15,
   "id": "d079917f",
   "metadata": {},
   "outputs": [
    {
     "data": {
      "text/plain": [
       "202.65927536515775"
      ]
     },
     "execution_count": 15,
     "metadata": {},
     "output_type": "execute_result"
    }
   ],
   "source": [
    "def mape(a,b):\n",
    "    return np.mean(np.abs(np.divide(np.subtract(a,b),a)))*100\n",
    "\n",
    "mape(y_hat,y)"
   ]
  },
  {
   "cell_type": "markdown",
   "id": "f4f53e44",
   "metadata": {},
   "source": [
    "<h2>Part 2</h2>"
   ]
  },
  {
   "cell_type": "markdown",
   "id": "f7d46a74",
   "metadata": {},
   "source": [
    "<h6>Create a 1d array M {1, 2, …16} using the arange function</h6>"
   ]
  },
  {
   "cell_type": "code",
   "execution_count": 16,
   "id": "203ede9f",
   "metadata": {},
   "outputs": [
    {
     "data": {
      "text/plain": [
       "array([ 1,  2,  3,  4,  5,  6,  7,  8,  9, 10, 11, 12, 13, 14, 15, 16])"
      ]
     },
     "execution_count": 16,
     "metadata": {},
     "output_type": "execute_result"
    }
   ],
   "source": [
    "M = np.arange(1,17)\n",
    "M"
   ]
  },
  {
   "cell_type": "markdown",
   "id": "aff58d1f",
   "metadata": {},
   "source": [
    "<h6>Reshape M into 4x4 array and store it to N</h6>"
   ]
  },
  {
   "cell_type": "code",
   "execution_count": 17,
   "id": "3ca465de",
   "metadata": {},
   "outputs": [
    {
     "data": {
      "text/plain": [
       "array([[ 1,  2,  3,  4],\n",
       "       [ 5,  6,  7,  8],\n",
       "       [ 9, 10, 11, 12],\n",
       "       [13, 14, 15, 16]])"
      ]
     },
     "execution_count": 17,
     "metadata": {},
     "output_type": "execute_result"
    }
   ],
   "source": [
    "N = np.reshape(M, (4,4))\n",
    "N"
   ]
  },
  {
   "cell_type": "markdown",
   "id": "99f93eef",
   "metadata": {},
   "source": [
    "<h6>Get the 2nd row of N</h6>"
   ]
  },
  {
   "cell_type": "code",
   "execution_count": 19,
   "id": "70e2c954",
   "metadata": {},
   "outputs": [
    {
     "data": {
      "text/plain": [
       "array([5, 6, 7, 8])"
      ]
     },
     "execution_count": 19,
     "metadata": {},
     "output_type": "execute_result"
    }
   ],
   "source": [
    "N[1]"
   ]
  },
  {
   "cell_type": "markdown",
   "id": "0013b693",
   "metadata": {},
   "source": [
    "<h6>Get the minimum values for each column of N</h6>"
   ]
  },
  {
   "cell_type": "code",
   "execution_count": 20,
   "id": "61fcef2b",
   "metadata": {},
   "outputs": [
    {
     "data": {
      "text/plain": [
       "array([1, 2, 3, 4])"
      ]
     },
     "execution_count": 20,
     "metadata": {},
     "output_type": "execute_result"
    }
   ],
   "source": [
    "np.amin(N,axis=0)"
   ]
  },
  {
   "cell_type": "markdown",
   "id": "c7093027",
   "metadata": {},
   "source": [
    "<h6>Get the locations of the minimum values for each column of N</h6>"
   ]
  },
  {
   "cell_type": "code",
   "execution_count": 21,
   "id": "227bac8a",
   "metadata": {},
   "outputs": [
    {
     "data": {
      "text/plain": [
       "{(0, 0), (0, 1), (0, 2), (0, 3)}"
      ]
     },
     "execution_count": 21,
     "metadata": {},
     "output_type": "execute_result"
    }
   ],
   "source": [
    "temp = np.where(N==np.amin(N,axis=0))\n",
    "temparray = np.asarray(temp)\n",
    "#location of the minimum values at each column\n",
    "index = set(zip(temparray[0],temparray[1]))\n",
    "index"
   ]
  },
  {
   "cell_type": "markdown",
   "id": "838c3c87",
   "metadata": {},
   "source": [
    "<h6>Get the average of the whole matrix</h6>"
   ]
  },
  {
   "cell_type": "code",
   "execution_count": 23,
   "id": "b36e326a",
   "metadata": {},
   "outputs": [
    {
     "data": {
      "text/plain": [
       "8.5"
      ]
     },
     "execution_count": 23,
     "metadata": {},
     "output_type": "execute_result"
    }
   ],
   "source": [
    "np.average(N)"
   ]
  },
  {
   "cell_type": "markdown",
   "id": "d2cfa411",
   "metadata": {},
   "source": [
    "<h6>Create a vector V with 4 elements, each element is 1</h6>"
   ]
  },
  {
   "cell_type": "code",
   "execution_count": 25,
   "id": "ca4a64c9",
   "metadata": {},
   "outputs": [
    {
     "data": {
      "text/plain": [
       "array([1, 1, 1, 1])"
      ]
     },
     "execution_count": 25,
     "metadata": {},
     "output_type": "execute_result"
    }
   ],
   "source": [
    "V = np.ones(4, dtype=int)\n",
    "V"
   ]
  },
  {
   "cell_type": "code",
   "execution_count": 26,
   "id": "0a8f44b8",
   "metadata": {},
   "outputs": [
    {
     "data": {
      "text/plain": [
       "array([10, 26, 42, 58])"
      ]
     },
     "execution_count": 26,
     "metadata": {},
     "output_type": "execute_result"
    }
   ],
   "source": [
    "np.dot(N,V)"
   ]
  }
 ],
 "metadata": {
  "kernelspec": {
   "display_name": "Python 3 (ipykernel)",
   "language": "python",
   "name": "python3"
  },
  "language_info": {
   "codemirror_mode": {
    "name": "ipython",
    "version": 3
   },
   "file_extension": ".py",
   "mimetype": "text/x-python",
   "name": "python",
   "nbconvert_exporter": "python",
   "pygments_lexer": "ipython3",
   "version": "3.9.12"
  }
 },
 "nbformat": 4,
 "nbformat_minor": 5
}
